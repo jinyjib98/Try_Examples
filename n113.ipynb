{
  "nbformat": 4,
  "nbformat_minor": 0,
  "metadata": {
    "colab": {
      "name": "n113.ipynb",
      "private_outputs": true,
      "provenance": [],
      "authorship_tag": "ABX9TyOcHyAJ1hZz5VEK9mX+sqFY",
      "include_colab_link": true
    },
    "kernelspec": {
      "name": "python3",
      "display_name": "Python 3"
    },
    "language_info": {
      "name": "python"
    }
  },
  "cells": [
    {
      "cell_type": "markdown",
      "metadata": {
        "id": "view-in-github",
        "colab_type": "text"
      },
      "source": [
        "<a href=\"https://colab.research.google.com/github/jinyjib98/Try_Examples/blob/main/n113.ipynb\" target=\"_parent\"><img src=\"https://colab.research.google.com/assets/colab-badge.svg\" alt=\"Open In Colab\"/></a>"
      ]
    },
    {
      "cell_type": "code",
      "metadata": {
        "id": "qH67EV5uXOsa"
      },
      "source": [
        "import pandas as pd\n",
        "\n",
        "# 묵시적 인덱스\n",
        "x1 = pd.DataFrame([1,2,3,4,5,6,7,8,9,10])\n",
        "\n",
        "print(x1[4:7])"
      ],
      "execution_count": null,
      "outputs": []
    },
    {
      "cell_type": "code",
      "metadata": {
        "id": "1UQ3y66rZC_B"
      },
      "source": [
        "# 명시적 인덱스\n",
        "x2 = pd.DataFrame([1,2,3,4,5,6,7,8,9,10], index=['a','b','c','d','e','f','g','h','i','j'])\n",
        "\n",
        "print(x2['e':'h']) # 묵시적 인덱스와 같은 부분에 해당하나 결과는 다름\n",
        "\n",
        "# 묵시적 인덱스에서는 마지막 인덱스 제외. 명시적에서는 포함"
      ],
      "execution_count": null,
      "outputs": []
    },
    {
      "cell_type": "code",
      "metadata": {
        "id": "5vbVhAi3cXTQ"
      },
      "source": [
        "# print('B : ', x2.iloc[1:4])\n",
        "print('C : ', x2.loc['b':'d'])"
      ],
      "execution_count": null,
      "outputs": []
    }
  ]
}